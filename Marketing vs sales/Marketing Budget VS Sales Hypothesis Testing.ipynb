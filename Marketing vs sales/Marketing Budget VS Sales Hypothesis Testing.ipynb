{
 "cells": [
  {
   "cell_type": "markdown",
   "id": "6651038e",
   "metadata": {},
   "source": [
    "# Test of hypothesis for marketing promotion team"
   ]
  },
  {
   "cell_type": "markdown",
   "id": "fcb9e534",
   "metadata": {},
   "source": [
    "## Introduction"
   ]
  },
  {
   "cell_type": "markdown",
   "id": "f728a776",
   "metadata": {},
   "source": [
    "Progressing on the Analysis for the marketing team, We will use the data to run a one-way ANOVA and a post hoc ANOVA test. Then, we will communicate the results to stakeholders. These experiences will help make more confident recommendations in the next meeting.\n",
    "\n",
    "In the dataset, each row corresponds to an independent marketing promotion, where business uses TV, social media, radio, and influencer promotions to increase sales. You have previously provided insights about how different promotion types affect sales; now stakeholders want to know if sales are significantly different among various TV and influencer promotion types.\n",
    "\n",
    "To address this request, a one-way ANOVA test will enable us to determine if there is a statistically significant difference in sales among groups. This includes:\n",
    "* Using plots and descriptive statistics to select a categorical independent variable\n",
    "* Creating and fitting a linear regression model with the selected categorical independent variable\n",
    "* Checking model assumptions\n",
    "* Performing and interpreting a one-way ANOVA test\n",
    "* Comparing pairs of groups using an ANOVA post hoc test\n",
    "* Interpreting model outputs and communicating the results to nontechnical stakeholders"
   ]
  },
  {
   "cell_type": "code",
   "execution_count": 1,
   "id": "8e389650",
   "metadata": {},
   "outputs": [],
   "source": [
    "# Import relevant libaries\n",
    "import pandas as pd\n",
    "import matplotlib.pyplot as plt\n",
    "import seaborn as sns\n",
    "import statsmodels.api as sm\n",
    "from statsmodels.formula.api import ols\n",
    "from statsmodels.stats.multicomp import pairwise_tukeyhsd"
   ]
  },
  {
   "cell_type": "code",
   "execution_count": 2,
   "id": "f999829d",
   "metadata": {},
   "outputs": [
    {
     "data": {
      "text/html": [
       "<div>\n",
       "<style scoped>\n",
       "    .dataframe tbody tr th:only-of-type {\n",
       "        vertical-align: middle;\n",
       "    }\n",
       "\n",
       "    .dataframe tbody tr th {\n",
       "        vertical-align: top;\n",
       "    }\n",
       "\n",
       "    .dataframe thead th {\n",
       "        text-align: right;\n",
       "    }\n",
       "</style>\n",
       "<table border=\"1\" class=\"dataframe\">\n",
       "  <thead>\n",
       "    <tr style=\"text-align: right;\">\n",
       "      <th></th>\n",
       "      <th>TV</th>\n",
       "      <th>Radio</th>\n",
       "      <th>Social Media</th>\n",
       "      <th>Influencer</th>\n",
       "      <th>Sales</th>\n",
       "    </tr>\n",
       "  </thead>\n",
       "  <tbody>\n",
       "    <tr>\n",
       "      <th>0</th>\n",
       "      <td>Low</td>\n",
       "      <td>3.518070</td>\n",
       "      <td>2.293790</td>\n",
       "      <td>Micro</td>\n",
       "      <td>55.261284</td>\n",
       "    </tr>\n",
       "    <tr>\n",
       "      <th>1</th>\n",
       "      <td>Low</td>\n",
       "      <td>7.756876</td>\n",
       "      <td>2.572287</td>\n",
       "      <td>Mega</td>\n",
       "      <td>67.574904</td>\n",
       "    </tr>\n",
       "    <tr>\n",
       "      <th>2</th>\n",
       "      <td>High</td>\n",
       "      <td>20.348988</td>\n",
       "      <td>1.227180</td>\n",
       "      <td>Micro</td>\n",
       "      <td>272.250108</td>\n",
       "    </tr>\n",
       "    <tr>\n",
       "      <th>3</th>\n",
       "      <td>Medium</td>\n",
       "      <td>20.108487</td>\n",
       "      <td>2.728374</td>\n",
       "      <td>Mega</td>\n",
       "      <td>195.102176</td>\n",
       "    </tr>\n",
       "    <tr>\n",
       "      <th>4</th>\n",
       "      <td>High</td>\n",
       "      <td>31.653200</td>\n",
       "      <td>7.776978</td>\n",
       "      <td>Nano</td>\n",
       "      <td>273.960377</td>\n",
       "    </tr>\n",
       "  </tbody>\n",
       "</table>\n",
       "</div>"
      ],
      "text/plain": [
       "       TV      Radio  Social Media Influencer       Sales\n",
       "0     Low   3.518070      2.293790      Micro   55.261284\n",
       "1     Low   7.756876      2.572287       Mega   67.574904\n",
       "2    High  20.348988      1.227180      Micro  272.250108\n",
       "3  Medium  20.108487      2.728374       Mega  195.102176\n",
       "4    High  31.653200      7.776978       Nano  273.960377"
      ]
     },
     "execution_count": 2,
     "metadata": {},
     "output_type": "execute_result"
    }
   ],
   "source": [
    "# Load the dataset\n",
    "data= pd.read_csv(r'C:\\Users\\user\\Desktop\\Course 5\\marketing_sales_data.csv')\n",
    "\n",
    "#Inspect the dataset\n",
    "data.head()"
   ]
  },
  {
   "cell_type": "markdown",
   "id": "52a7eebb",
   "metadata": {},
   "source": [
    "The features in the data are:\n",
    "* TV promotion budget (in Low, Medium, and High categories)\n",
    "* Social media promotion budget (in millions of dollars)\n",
    "* Radio promotion budget (in millions of dollars)\n",
    "* Sales (in millions of dollars)\n",
    "* Influencer size (in Mega, Macro, Nano, and Micro categories)"
   ]
  },
  {
   "cell_type": "markdown",
   "id": "df4175af",
   "metadata": {},
   "source": [
    "## Data exploration\n"
   ]
  },
  {
   "cell_type": "markdown",
   "id": "9da7e285",
   "metadata": {},
   "source": [
    "Use a boxplot to determine how `sales` vary based on `TV` promotion budget category"
   ]
  },
  {
   "cell_type": "code",
   "execution_count": 4,
   "id": "25da2161",
   "metadata": {},
   "outputs": [
    {
     "data": {
      "image/png": "[encoded data removed]",
      "text/plain": [
       "<Figure size 500x300 with 1 Axes>"
      ]
     },
     "metadata": {},
     "output_type": "display_data"
    }
   ],
   "source": [
    "plt.figure(figsize= (5,3))\n",
    "sns.boxplot(x= 'Sales', y= 'TV', data= data );"
   ]
  },
  {
   "cell_type": "markdown",
   "id": "c66bff48",
   "metadata": {},
   "source": [
    "### Quick Insight\n",
    "There is considerable variation in `Sales` across the `TV` groups. The significance of these differences can be tested with a one-way ANOVA."
   ]
  },
  {
   "cell_type": "markdown",
   "id": "f2666b8c",
   "metadata": {},
   "source": [
    "Now, we will use a boxplot to determine how `Sales` vary based on the `Influencer` size category."
   ]
  },
  {
   "cell_type": "code",
   "execution_count": 5,
   "id": "f813bf8c",
   "metadata": {},
   "outputs": [
    {
     "data": {
      "image/png": "[encoded data removed]",
      "text/plain": [
       "<Figure size 500x300 with 1 Axes>"
      ]
     },
     "metadata": {},
     "output_type": "display_data"
    }
   ],
   "source": [
    "plt.figure(figsize= (5,3))\n",
    "sns.boxplot(data= data, x='Sales', y= 'Influencer');"
   ]
  },
  {
   "cell_type": "markdown",
   "id": "25bfad49",
   "metadata": {},
   "source": [
    "### Quick Insight\n",
    "There is some variation in `Sales` across the `Influencer` groups, but it may not be significant."
   ]
  },
  {
   "cell_type": "code",
   "execution_count": 6,
   "id": "6e3bf28e",
   "metadata": {},
   "outputs": [
    {
     "data": {
      "text/plain": [
       "(572, 5)"
      ]
     },
     "execution_count": 6,
     "metadata": {},
     "output_type": "execute_result"
    }
   ],
   "source": [
    "# Dropping null values becasue there are not many rows\n",
    "data= data.dropna(axis= 0)\n",
    "data.shape"
   ]
  },
  {
   "cell_type": "markdown",
   "id": "2a423f9d",
   "metadata": {},
   "source": [
    "## Model building"
   ]
  },
  {
   "cell_type": "code",
   "execution_count": 7,
   "id": "cf4eb6eb",
   "metadata": {},
   "outputs": [
    {
     "data": {
      "text/html": [
       "<table class=\"simpletable\">\n",
       "<caption>OLS Regression Results</caption>\n",
       "<tr>\n",
       "  <th>Dep. Variable:</th>          <td>Sales</td>      <th>  R-squared:         </th> <td>   0.871</td> \n",
       "</tr>\n",
       "<tr>\n",
       "  <th>Model:</th>                   <td>OLS</td>       <th>  Adj. R-squared:    </th> <td>   0.870</td> \n",
       "</tr>\n",
       "<tr>\n",
       "  <th>Method:</th>             <td>Least Squares</td>  <th>  F-statistic:       </th> <td>   1918.</td> \n",
       "</tr>\n",
       "<tr>\n",
       "  <th>Date:</th>             <td>Fri, 04 Aug 2023</td> <th>  Prob (F-statistic):</th> <td>1.38e-253</td>\n",
       "</tr>\n",
       "<tr>\n",
       "  <th>Time:</th>                 <td>20:36:47</td>     <th>  Log-Likelihood:    </th> <td> -2798.9</td> \n",
       "</tr>\n",
       "<tr>\n",
       "  <th>No. Observations:</th>      <td>   572</td>      <th>  AIC:               </th> <td>   5604.</td> \n",
       "</tr>\n",
       "<tr>\n",
       "  <th>Df Residuals:</th>          <td>   569</td>      <th>  BIC:               </th> <td>   5617.</td> \n",
       "</tr>\n",
       "<tr>\n",
       "  <th>Df Model:</th>              <td>     2</td>      <th>                     </th>     <td> </td>    \n",
       "</tr>\n",
       "<tr>\n",
       "  <th>Covariance Type:</th>      <td>nonrobust</td>    <th>                     </th>     <td> </td>    \n",
       "</tr>\n",
       "</table>\n",
       "<table class=\"simpletable\">\n",
       "<tr>\n",
       "         <td></td>            <th>coef</th>     <th>std err</th>      <th>t</th>      <th>P>|t|</th>  <th>[0.025</th>    <th>0.975]</th>  \n",
       "</tr>\n",
       "<tr>\n",
       "  <th>Intercept</th>       <td>  300.8532</td> <td>    2.512</td> <td>  119.789</td> <td> 0.000</td> <td>  295.920</td> <td>  305.786</td>\n",
       "</tr>\n",
       "<tr>\n",
       "  <th>C(TV)[T.Low]</th>    <td> -209.8691</td> <td>    3.394</td> <td>  -61.841</td> <td> 0.000</td> <td> -216.535</td> <td> -203.203</td>\n",
       "</tr>\n",
       "<tr>\n",
       "  <th>C(TV)[T.Medium]</th> <td> -105.4952</td> <td>    3.379</td> <td>  -31.224</td> <td> 0.000</td> <td> -112.131</td> <td>  -98.859</td>\n",
       "</tr>\n",
       "</table>\n",
       "<table class=\"simpletable\">\n",
       "<tr>\n",
       "  <th>Omnibus:</th>       <td>547.584</td> <th>  Durbin-Watson:     </th> <td>   1.960</td>\n",
       "</tr>\n",
       "<tr>\n",
       "  <th>Prob(Omnibus):</th> <td> 0.000</td>  <th>  Jarque-Bera (JB):  </th> <td>  37.103</td>\n",
       "</tr>\n",
       "<tr>\n",
       "  <th>Skew:</th>          <td> 0.015</td>  <th>  Prob(JB):          </th> <td>8.77e-09</td>\n",
       "</tr>\n",
       "<tr>\n",
       "  <th>Kurtosis:</th>      <td> 1.753</td>  <th>  Cond. No.          </th> <td>    3.97</td>\n",
       "</tr>\n",
       "</table><br/><br/>Notes:<br/>[1] Standard Errors assume that the covariance matrix of the errors is correctly specified."
      ],
      "text/plain": [
       "<class 'statsmodels.iolib.summary.Summary'>\n",
       "\"\"\"\n",
       "                            OLS Regression Results                            \n",
       "==============================================================================\n",
       "Dep. Variable:                  Sales   R-squared:                       0.871\n",
       "Model:                            OLS   Adj. R-squared:                  0.870\n",
       "Method:                 Least Squares   F-statistic:                     1918.\n",
       "Date:                Fri, 04 Aug 2023   Prob (F-statistic):          1.38e-253\n",
       "Time:                        20:36:47   Log-Likelihood:                -2798.9\n",
       "No. Observations:                 572   AIC:                             5604.\n",
       "Df Residuals:                     569   BIC:                             5617.\n",
       "Df Model:                           2                                         \n",
       "Covariance Type:            nonrobust                                         \n",
       "===================================================================================\n",
       "                      coef    std err          t      P>|t|      [0.025      0.975]\n",
       "-----------------------------------------------------------------------------------\n",
       "Intercept         300.8532      2.512    119.789      0.000     295.920     305.786\n",
       "C(TV)[T.Low]     -209.8691      3.394    -61.841      0.000    -216.535    -203.203\n",
       "C(TV)[T.Medium]  -105.4952      3.379    -31.224      0.000    -112.131     -98.859\n",
       "==============================================================================\n",
       "Omnibus:                      547.584   Durbin-Watson:                   1.960\n",
       "Prob(Omnibus):                  0.000   Jarque-Bera (JB):               37.103\n",
       "Skew:                           0.015   Prob(JB):                     8.77e-09\n",
       "Kurtosis:                       1.753   Cond. No.                         3.97\n",
       "==============================================================================\n",
       "\n",
       "Notes:\n",
       "[1] Standard Errors assume that the covariance matrix of the errors is correctly specified.\n",
       "\"\"\""
      ]
     },
     "execution_count": 7,
     "metadata": {},
     "output_type": "execute_result"
    }
   ],
   "source": [
    "# Define the OLS formula.\n",
    "ols_formula= 'Sales  ~ C(TV)'\n",
    "\n",
    "# Create an OLS model.\n",
    "OLS= ols(formula= ols_formula, data= data)\n",
    "\n",
    "# Fit the model.\n",
    "model= OLS.fit()\n",
    "\n",
    "# Save the results summary.\n",
    "model_result =model.summary()\n",
    "\n",
    "# Display the model results.\n",
    "model_result"
   ]
  },
  {
   "cell_type": "markdown",
   "id": "050a0627",
   "metadata": {},
   "source": [
    "### Quick insight"
   ]
  },
  {
   "cell_type": "markdown",
   "id": "3bb672fc",
   "metadata": {},
   "source": [
    "* `TV` was selected as the preceding analysis showed a strong relationship between the `TV` promotion budget and the average `Sales`.\n",
    "* `Influencer` was not selected because it did not show a strong relationship to `Sales` in the analysis."
   ]
  },
  {
   "cell_type": "markdown",
   "id": "7f67bc17",
   "metadata": {},
   "source": [
    "## Check model assumpptions"
   ]
  },
  {
   "cell_type": "markdown",
   "id": "6ed47653",
   "metadata": {},
   "source": [
    "`Firstly, because the model does not have any contonous Independent variable, the normality assumption is not required.`"
   ]
  },
  {
   "cell_type": "markdown",
   "id": "08315c5e",
   "metadata": {},
   "source": [
    "`Also, because the independent observation assumption states that each observation in the dataset is independent. As each marketing promotion (row) is independent from one another, the independence assumption is not violated.`"
   ]
  },
  {
   "cell_type": "markdown",
   "id": "3d31494d",
   "metadata": {},
   "source": [
    "Next, verify that the normality assumption is not violated"
   ]
  },
  {
   "cell_type": "code",
   "execution_count": 9,
   "id": "a2df62df",
   "metadata": {},
   "outputs": [
    {
     "data": {
      "image/png": "[encoded data removed]",
      "text/plain": [
       "<Figure size 500x300 with 2 Axes>"
      ]
     },
     "metadata": {},
     "output_type": "display_data"
    }
   ],
   "source": [
    "# Calculate the residuals.\n",
    "residuals= model.resid\n",
    "\n",
    "# Create a 1x2 plot figure\n",
    "fig, axes= plt.subplots(1,2, figsize= (5,3 ))\n",
    "                       \n",
    "# Create a histogram with the residuals.\n",
    "sns.histplot(residuals, ax=axes[0])\n",
    "\n",
    "# Set the x label of the residual plot.\n",
    "axes[0].set_xlabel(\"Residual Value\")\n",
    "\n",
    "# Set the title of the residual plot.\n",
    "axes[0].set_title(\"Histogram of Residuals\")\n",
    "                       \n",
    "# Create a QQ plot of the residuals.\n",
    "sm.qqplot(residuals, line='s', ax=axes[1])\n",
    "                       \n",
    "# Set the title of the QQ plot.\n",
    "axes[1].set_title(\"Normal QQ Plot\")\n",
    "\n",
    "# Use matplotlib's tight_layout() function to add space between plots for a cleaner appearance.\n",
    "plt.tight_layout()\n",
    "\n",
    "# Show the plot.\n",
    "plt.show()"
   ]
  },
  {
   "cell_type": "markdown",
   "id": "feec8bd0",
   "metadata": {},
   "source": [
    "#### Quick Insight\n",
    "There is reasonable concern that the normality assumption is not met when `TV` is used as the independent variable predicting `Sales`. The normal q-q forms an 'S' that deviates off the red diagonal line, which is not desired behavior. \n",
    "\n"
   ]
  },
  {
   "cell_type": "markdown",
   "id": "b4065ca4",
   "metadata": {},
   "source": [
    "**Check if the constant variance (homoscedascity) assumption is met.**"
   ]
  },
  {
   "cell_type": "code",
   "execution_count": 10,
   "id": "ce07ec8b",
   "metadata": {},
   "outputs": [
    {
     "data": {
      "image/png": "[encoded data removed]",
      "text/plain": [
       "<Figure size 500x300 with 1 Axes>"
      ]
     },
     "metadata": {},
     "output_type": "display_data"
    }
   ],
   "source": [
    "plt.figure(figsize= (5,3))\n",
    "# Create a scatter plot with the fitted values from the model and the residuals.\n",
    "fig= sns.scatterplot(x= model.fittedvalues, y= model.resid)\n",
    "\n",
    "# Set the x axis label\n",
    "fig.set_xlabel(\"Fitted Values\")\n",
    "\n",
    "# Set the y axis label\n",
    "fig.set_ylabel(\"Residuals\")\n",
    "\n",
    "# Set the title\n",
    "fig.set_title(\"Fitted Values v. Residuals\")\n",
    "\n",
    "# Add a line at y = 0 to visualize the variance of residuals above and below 0.\n",
    "fig.axhline()\n",
    "\n",
    "plt.show()"
   ]
  },
  {
   "cell_type": "markdown",
   "id": "02fb3fef",
   "metadata": {},
   "source": [
    "**Note:**\n",
    "\n",
    "The variance where there are fitted values is similarly distributed, validating that the constant variance assumption is met."
   ]
  },
  {
   "cell_type": "markdown",
   "id": "f3946153",
   "metadata": {},
   "source": [
    "## Results and Evaluation"
   ]
  },
  {
   "cell_type": "code",
   "execution_count": 14,
   "id": "5bdf7984",
   "metadata": {},
   "outputs": [
    {
     "data": {
      "text/html": [
       "<table class=\"simpletable\">\n",
       "<caption>OLS Regression Results</caption>\n",
       "<tr>\n",
       "  <th>Dep. Variable:</th>          <td>Sales</td>      <th>  R-squared:         </th> <td>   0.871</td> \n",
       "</tr>\n",
       "<tr>\n",
       "  <th>Model:</th>                   <td>OLS</td>       <th>  Adj. R-squared:    </th> <td>   0.870</td> \n",
       "</tr>\n",
       "<tr>\n",
       "  <th>Method:</th>             <td>Least Squares</td>  <th>  F-statistic:       </th> <td>   1918.</td> \n",
       "</tr>\n",
       "<tr>\n",
       "  <th>Date:</th>             <td>Fri, 04 Aug 2023</td> <th>  Prob (F-statistic):</th> <td>1.38e-253</td>\n",
       "</tr>\n",
       "<tr>\n",
       "  <th>Time:</th>                 <td>20:36:47</td>     <th>  Log-Likelihood:    </th> <td> -2798.9</td> \n",
       "</tr>\n",
       "<tr>\n",
       "  <th>No. Observations:</th>      <td>   572</td>      <th>  AIC:               </th> <td>   5604.</td> \n",
       "</tr>\n",
       "<tr>\n",
       "  <th>Df Residuals:</th>          <td>   569</td>      <th>  BIC:               </th> <td>   5617.</td> \n",
       "</tr>\n",
       "<tr>\n",
       "  <th>Df Model:</th>              <td>     2</td>      <th>                     </th>     <td> </td>    \n",
       "</tr>\n",
       "<tr>\n",
       "  <th>Covariance Type:</th>      <td>nonrobust</td>    <th>                     </th>     <td> </td>    \n",
       "</tr>\n",
       "</table>\n",
       "<table class=\"simpletable\">\n",
       "<tr>\n",
       "         <td></td>            <th>coef</th>     <th>std err</th>      <th>t</th>      <th>P>|t|</th>  <th>[0.025</th>    <th>0.975]</th>  \n",
       "</tr>\n",
       "<tr>\n",
       "  <th>Intercept</th>       <td>  300.8532</td> <td>    2.512</td> <td>  119.789</td> <td> 0.000</td> <td>  295.920</td> <td>  305.786</td>\n",
       "</tr>\n",
       "<tr>\n",
       "  <th>C(TV)[T.Low]</th>    <td> -209.8691</td> <td>    3.394</td> <td>  -61.841</td> <td> 0.000</td> <td> -216.535</td> <td> -203.203</td>\n",
       "</tr>\n",
       "<tr>\n",
       "  <th>C(TV)[T.Medium]</th> <td> -105.4952</td> <td>    3.379</td> <td>  -31.224</td> <td> 0.000</td> <td> -112.131</td> <td>  -98.859</td>\n",
       "</tr>\n",
       "</table>\n",
       "<table class=\"simpletable\">\n",
       "<tr>\n",
       "  <th>Omnibus:</th>       <td>547.584</td> <th>  Durbin-Watson:     </th> <td>   1.960</td>\n",
       "</tr>\n",
       "<tr>\n",
       "  <th>Prob(Omnibus):</th> <td> 0.000</td>  <th>  Jarque-Bera (JB):  </th> <td>  37.103</td>\n",
       "</tr>\n",
       "<tr>\n",
       "  <th>Skew:</th>          <td> 0.015</td>  <th>  Prob(JB):          </th> <td>8.77e-09</td>\n",
       "</tr>\n",
       "<tr>\n",
       "  <th>Kurtosis:</th>      <td> 1.753</td>  <th>  Cond. No.          </th> <td>    3.97</td>\n",
       "</tr>\n",
       "</table><br/><br/>Notes:<br/>[1] Standard Errors assume that the covariance matrix of the errors is correctly specified."
      ],
      "text/plain": [
       "<class 'statsmodels.iolib.summary.Summary'>\n",
       "\"\"\"\n",
       "                            OLS Regression Results                            \n",
       "==============================================================================\n",
       "Dep. Variable:                  Sales   R-squared:                       0.871\n",
       "Model:                            OLS   Adj. R-squared:                  0.870\n",
       "Method:                 Least Squares   F-statistic:                     1918.\n",
       "Date:                Fri, 04 Aug 2023   Prob (F-statistic):          1.38e-253\n",
       "Time:                        20:36:47   Log-Likelihood:                -2798.9\n",
       "No. Observations:                 572   AIC:                             5604.\n",
       "Df Residuals:                     569   BIC:                             5617.\n",
       "Df Model:                           2                                         \n",
       "Covariance Type:            nonrobust                                         \n",
       "===================================================================================\n",
       "                      coef    std err          t      P>|t|      [0.025      0.975]\n",
       "-----------------------------------------------------------------------------------\n",
       "Intercept         300.8532      2.512    119.789      0.000     295.920     305.786\n",
       "C(TV)[T.Low]     -209.8691      3.394    -61.841      0.000    -216.535    -203.203\n",
       "C(TV)[T.Medium]  -105.4952      3.379    -31.224      0.000    -112.131     -98.859\n",
       "==============================================================================\n",
       "Omnibus:                      547.584   Durbin-Watson:                   1.960\n",
       "Prob(Omnibus):                  0.000   Jarque-Bera (JB):               37.103\n",
       "Skew:                           0.015   Prob(JB):                     8.77e-09\n",
       "Kurtosis:                       1.753   Cond. No.                         3.97\n",
       "==============================================================================\n",
       "\n",
       "Notes:\n",
       "[1] Standard Errors assume that the covariance matrix of the errors is correctly specified.\n",
       "\"\"\""
      ]
     },
     "execution_count": 14,
     "metadata": {},
     "output_type": "execute_result"
    }
   ],
   "source": [
    "#Display the result of the model \n",
    "model_result"
   ]
  },
  {
   "cell_type": "markdown",
   "id": "9720e8f0",
   "metadata": {},
   "source": [
    "### Quick Insight\n",
    "Using `TV` as the independent variable results in a linear regression model with $R^{2} = 0.874$. In other words, the model explains $87.4\\%$ of the variation in `Sales`. This makes the model an effective predictor of `Sales`. "
   ]
  },
  {
   "cell_type": "markdown",
   "id": "72a65409",
   "metadata": {},
   "source": [
    "The default `TV` category for the model is `High`, because there are coefficients for the other two `TV` categories, `Medium` and `Low`. According to the model, `Sales` with a `Medium` or `Low` `TV` category are lower on average than `Sales` with a `High` `TV` category. For example, the model predicts that a `Low` `TV` promotion would be 209.8691 (in millions of dollars) lower in `Sales` on average than a `High` `TV` promotion.\n",
    "\n",
    "The p-value for all coefficients is $0.000$, meaning all coefficients are statistically significant at $p=0.05$. The 95% confidence intervals for each coefficient should be reported when presenting results to stakeholders. For instance, there is a $95\\%$ chance the interval $[-215.353,-202.274]$ contains the true parameter of the slope of $\\beta_{TVLow}$, which is the estimated difference in promotion sales when a `Low` `TV` promotion is chosen instead of a `High` `TV` promotion."
   ]
  },
  {
   "cell_type": "markdown",
   "id": "761a3bd9",
   "metadata": {},
   "source": [
    "### Here are ways to increase accuracy of model:\n",
    "Given how accurate `TV` was as a predictor, the model could be improved with a more granular view of the `TV` promotions, such as additional categories or the actual `TV` promotion budgets. Further, additional variables, such as the location of the marketing campaign or the time of year, may increase model accuracy. "
   ]
  },
  {
   "cell_type": "markdown",
   "id": "ab005b99",
   "metadata": {},
   "source": [
    "### Perform a one-way ANOVA test\n",
    "\n",
    "With the model fit, run a one-way ANOVA test to determine whether there is a statistically significant difference in `Sales` among groups. "
   ]
  },
  {
   "cell_type": "code",
   "execution_count": 12,
   "id": "2845c00a",
   "metadata": {},
   "outputs": [
    {
     "data": {
      "text/html": [
       "<div>\n",
       "<style scoped>\n",
       "    .dataframe tbody tr th:only-of-type {\n",
       "        vertical-align: middle;\n",
       "    }\n",
       "\n",
       "    .dataframe tbody tr th {\n",
       "        vertical-align: top;\n",
       "    }\n",
       "\n",
       "    .dataframe thead th {\n",
       "        text-align: right;\n",
       "    }\n",
       "</style>\n",
       "<table border=\"1\" class=\"dataframe\">\n",
       "  <thead>\n",
       "    <tr style=\"text-align: right;\">\n",
       "      <th></th>\n",
       "      <th>df</th>\n",
       "      <th>sum_sq</th>\n",
       "      <th>mean_sq</th>\n",
       "      <th>F</th>\n",
       "      <th>PR(&gt;F)</th>\n",
       "    </tr>\n",
       "  </thead>\n",
       "  <tbody>\n",
       "    <tr>\n",
       "      <th>C(TV)</th>\n",
       "      <td>2.0</td>\n",
       "      <td>4.016116e+06</td>\n",
       "      <td>2.008058e+06</td>\n",
       "      <td>1917.749265</td>\n",
       "      <td>1.383230e-253</td>\n",
       "    </tr>\n",
       "    <tr>\n",
       "      <th>Residual</th>\n",
       "      <td>569.0</td>\n",
       "      <td>5.957948e+05</td>\n",
       "      <td>1.047091e+03</td>\n",
       "      <td>NaN</td>\n",
       "      <td>NaN</td>\n",
       "    </tr>\n",
       "  </tbody>\n",
       "</table>\n",
       "</div>"
      ],
      "text/plain": [
       "             df        sum_sq       mean_sq            F         PR(>F)\n",
       "C(TV)       2.0  4.016116e+06  2.008058e+06  1917.749265  1.383230e-253\n",
       "Residual  569.0  5.957948e+05  1.047091e+03          NaN            NaN"
      ]
     },
     "execution_count": 12,
     "metadata": {},
     "output_type": "execute_result"
    }
   ],
   "source": [
    "# Create a one-way ANOVA table for the fit data\n",
    "sm.stats.anova_lm(model ,typ=1)"
   ]
  },
  {
   "cell_type": "markdown",
   "id": "580b0bb8",
   "metadata": {},
   "source": [
    "#### Null hypothesis: \n",
    "The null hypothesis is that there is no difference in `Sales` based on the `TV` promotion budget.\n",
    "\n",
    "#### Alternative hypothesis:\n",
    "The alternative hypothesis is that there is a difference in `Sales` based on the `TV` promotion budget."
   ]
  },
  {
   "cell_type": "markdown",
   "id": "b69ce70f",
   "metadata": {},
   "source": [
    "### Conclusion on ANOVA test\n",
    "The F-test statistic is 1917.75 and the p-value is $1.38 * 10^{-253}$ (i.e., very small). Because the p-value is less than 0.05, we would reject the null hypothesis that there is no difference in `Sales` based on the `TV` promotion budget.\n",
    "\n",
    "\n",
    "The results of the one-way ANOVA test indicate that we can reject the null hypothesis in favor of the alternative hypothesis. There is a statistically significant difference in `Sales` among `TV` groups."
   ]
  },
  {
   "cell_type": "markdown",
   "id": "49d3117e",
   "metadata": {},
   "source": [
    "### Perform an ANOVA post hoc test\n",
    "\n",
    "If we have significant results from the one-way ANOVA test, we can apply ANOVA post hoc tests such as the Tukey’s HSD post hoc test. \n",
    "\n",
    "Run the Tukey’s HSD post hoc test to compare if there is a significant difference between each pair of categories for TV."
   ]
  },
  {
   "cell_type": "code",
   "execution_count": 13,
   "id": "fb485535",
   "metadata": {},
   "outputs": [
    {
     "data": {
      "text/html": [
       "<table class=\"simpletable\">\n",
       "<caption>Multiple Comparison of Means - Tukey HSD, FWER=0.05</caption>\n",
       "<tr>\n",
       "  <th>group1</th> <th>group2</th> <th>meandiff</th>  <th>p-adj</th>   <th>lower</th>     <th>upper</th>   <th>reject</th>\n",
       "</tr>\n",
       "<tr>\n",
       "   <td>High</td>    <td>Low</td>  <td>-209.8691</td>  <td>0.0</td>  <td>-217.8438</td> <td>-201.8944</td>  <td>True</td> \n",
       "</tr>\n",
       "<tr>\n",
       "   <td>High</td>  <td>Medium</td> <td>-105.4952</td>  <td>0.0</td>  <td>-113.4346</td> <td>-97.5557</td>   <td>True</td> \n",
       "</tr>\n",
       "<tr>\n",
       "    <td>Low</td>  <td>Medium</td> <td>104.3739</td>   <td>0.0</td>   <td>96.8261</td>  <td>111.9218</td>   <td>True</td> \n",
       "</tr>\n",
       "</table>"
      ],
      "text/plain": [
       "<class 'statsmodels.iolib.table.SimpleTable'>"
      ]
     },
     "execution_count": 13,
     "metadata": {},
     "output_type": "execute_result"
    }
   ],
   "source": [
    "# Perform the Tukey's HSD post hoc test.\n",
    "tukey_oneway= pairwise_tukeyhsd(endog= data['Sales'], groups= data['TV'])\n",
    "\n",
    "# Display the results\n",
    "tukey_oneway.summary()"
   ]
  },
  {
   "cell_type": "markdown",
   "id": "975f9ec8",
   "metadata": {},
   "source": [
    "### Quick Insight \n",
    "The first row, which compares the `High` and `Low` `TV` groups, indicates that you can reject the null hypothesis that there is no significant difference between the `Sales` of these two groups.\n",
    "\n",
    "We can also reject the null hypotheses for the two other pairwise comparisons that compare `High` to `Medium` and `Low` to `Medium`.\n",
    "\n",
    "\n",
    "A post hoc test was conducted to determine which `TV` groups are different and how many are different from each other. This provides more detail than the one-way ANOVA results, which can at most determine that at least one group is different. Further, using the Tukey HSD controls for the increasing probability of incorrectly rejecting a null hypothesis from peforming multiple tests. \n",
    "\n",
    "**The results were that `Sales` is not the same between any pair of `TV` groups.**\n"
   ]
  },
  {
   "cell_type": "markdown",
   "id": "d9e8266b",
   "metadata": {},
   "source": [
    "## **Conclusion**\n",
    "\n",
    "\n",
    "\n",
    "High TV promotion budgets result in significantly more sales than both medium and low TV promotion budgets. Medium TV promotion budgets result in significantly more sales than low TV promotion budgets.\n",
    "\n",
    "\n",
    "Specifically, following are estimates for the average difference between each pair of TV promotions:\n",
    "\n",
    "* Estimated average difference between High and Low TV promotions: \\\\$209.87 million (with 95% confidence that the exact value for this average difference is between 201.89 and 217.84 million dollars).\n",
    "* Estimated average difference between High and Medium TV promotions: \\\\$105.50 million (with 95% confidence that the exact value for this average difference is between 97.56 and 113.43 million dollars).\n",
    "* Estimated average difference between Medium and Low TV promotions: \\\\$104.37 million (with 95\\% confidence that the exact value for this average difference is between 96.83 and 111.92 million dollars).\n",
    "\n",
    "The linear regression model estimating `Sales` from `TV` had an R-squared of $0.871, making it a fairly accurate estimator. The model showed a statistically significant relationship between the `TV` promotion budget and `Sales`. The model estimated the following relationships:\n",
    "\n",
    "* Using a high TV promotion budget instead of a medium TV promotion budget increased sales by 105.4952 million dollars (95% CI - 98.859, 112.131 million dollars).\n",
    "\n",
    "* Using a high TV promotion budget instead of a low TV promotion budget increased sales by 209.8691 million dollars (95% CI - 203.203 million, 216.535 million dollars).\n",
    "\n",
    "The results of the one-way ANOVA test indicate that the null hypothesis that there is no difference in Sales based on the TV promotion budget can be rejected. Through the ANOVA post hoc test, a significant difference between all pairs of TV promotions was found.\n",
    "\n",
    "The difference in the distribution of sales across TV promotions was determined significant by both a one-way ANOVA test and a Tukey’s HSD test. "
   ]
  }
 ],
 "metadata": {
  "kernelspec": {
   "display_name": "Python 3 (ipykernel)",
   "language": "python",
   "name": "python3"
  },
  "language_info": {
   "codemirror_mode": {
    "name": "ipython",
    "version": 3
   },
   "file_extension": ".py",
   "mimetype": "text/x-python",
   "name": "python",
   "nbconvert_exporter": "python",
   "pygments_lexer": "ipython3",
   "version": "3.9.16"
  }
 },
 "nbformat": 4,
 "nbformat_minor": 5
}
